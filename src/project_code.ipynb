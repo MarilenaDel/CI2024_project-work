{
 "cells": [
  {
   "cell_type": "code",
   "execution_count": 1,
   "metadata": {},
   "outputs": [],
   "source": [
    "import numpy as np\n",
    "from typing import Callable\n",
    "from dataset import load_dataset, normalize_data, denormalize_formula_str\n",
    "from dag import DagGP\n",
    "from operators import BINARY_OPERATORS, UNARY_OPERATORS\n",
    "from gp import genetic_programming\n",
    "from utils import pretty_print"
   ]
  },
  {
   "cell_type": "code",
   "execution_count": 8,
   "metadata": {},
   "outputs": [
    {
     "name": "stdout",
     "output_type": "stream",
     "text": [
      "Primo campione normalizzato: {'x': array([ 1.09162757, -0.59496687]), 'y': np.float64(-0.025259829608601694)}\n",
      "original:  [ 3.15087424 -1.73013313]\n"
     ]
    }
   ],
   "source": [
    "dataset, num_variables = load_dataset(\"../data/problem_4.npz\")\n",
    "sample = dataset[0]\n",
    "x_original = sample[\"x\"]\n",
    "normalized_dataset, mean_X, mean_Y, std_X, std_Y = normalize_data(dataset)\n",
    "print(\"Primo campione normalizzato:\", normalized_dataset[0])\n",
    "print(\"original: \", x_original)"
   ]
  },
  {
   "cell_type": "code",
   "execution_count": 9,
   "metadata": {},
   "outputs": [],
   "source": [
    "population_size=100\n",
    "generations=20\n",
    "tree_depth=5\n",
    "batch_size = 50\n",
    "#dataset = normalized_dataset"
   ]
  },
  {
   "cell_type": "code",
   "execution_count": 10,
   "metadata": {},
   "outputs": [
    {
     "name": "stdout",
     "output_type": "stream",
     "text": [
      "Variabili: ['x[0]', 'x[1]']\n",
      "Costanti: ['-1.5229', '4.9237', '2.19122', '-6.94662', '1.09044']\n",
      "Generazione 0: Best fitness = 7.6529, Formula = ^(/(x[1], x[1]), ^(x[0], 4.9237))\n",
      "Generazione 1: Best fitness = 7.6529, Formula = ^(sin(x[1]), -(x[0], x[0]))\n",
      "Generazione 2: Best fitness = 7.6529, Formula = ^(sin(x[1]), -(x[0], x[0]))\n",
      "Generazione 3: Best fitness = 7.6529, Formula = ^(sin(x[1]), -(x[0], x[0]))\n",
      "stagnation: aumento mutation prob\n",
      "Generazione 4: Best fitness = 6.3824, Formula = ^(*(x[0], x[0]), cos(x[1]))\n",
      "Generazione 5: Best fitness = 6.3824, Formula = ^(*(x[0], x[0]), cos(x[1]))\n",
      "Generazione 6: Best fitness = 5.4260, Formula = /(/(x[0], x[1]), *(x[0], x[1]))\n",
      "Generazione 7: Best fitness = 5.4260, Formula = /(/(x[0], x[1]), *(x[0], x[1]))\n",
      "Generazione 8: Best fitness = 5.4260, Formula = /(/(x[0], x[1]), *(x[0], x[1]))\n",
      "Generazione 9: Best fitness = 5.4260, Formula = /(/(x[0], x[1]), *(x[0], x[1]))\n",
      "stagnation: aumento mutation prob\n",
      "Generazione 10: Best fitness = 5.4260, Formula = /(/(x[0], x[1]), *(x[0], x[1]))\n",
      "stagnation: aumento mutation prob\n",
      "Generazione 11: Best fitness = 5.4260, Formula = /(/(x[0], x[1]), *(x[0], x[1]))\n",
      "stagnation: aumento mutation prob\n",
      "Generazione 12: Best fitness = 5.3646, Formula = -(cos(x[1]), cos(x[0]))\n",
      "Generazione 13: Best fitness = 4.6061, Formula = *(cos(x[1]), *(/(x[0], 1.09044), x[0]))\n",
      "Generazione 14: Best fitness = 4.6061, Formula = *(*(/(x[0], 1.09044), x[0]), cos(x[1]))\n",
      "Generazione 15: Best fitness = 4.6061, Formula = *(*(/(x[0], 1.09044), x[0]), cos(x[1]))\n",
      "Generazione 16: Best fitness = 4.6061, Formula = *(*(/(x[0], 1.09044), x[0]), cos(x[1]))\n",
      "stagnation: aumento mutation prob\n",
      "Generazione 17: Best fitness = 4.6061, Formula = *(*(/(x[0], 1.09044), x[0]), cos(x[1]))\n",
      "stagnation: aumento mutation prob\n",
      "Generazione 18: Best fitness = 4.6061, Formula = *(*(/(x[0], 1.09044), x[0]), cos(x[1]))\n",
      "stagnation: aumento mutation prob\n",
      "Generazione 19: Best fitness = 5.1874, Formula = +(-(x[0], x[0]), cos(x[1]))\n"
     ]
    }
   ],
   "source": [
    "best_tree = genetic_programming(dataset, population_size, generations, tree_depth, num_variables, batch_size)\n"
   ]
  },
  {
   "cell_type": "code",
   "execution_count": 11,
   "metadata": {},
   "outputs": [
    {
     "name": "stdout",
     "output_type": "stream",
     "text": [
      "\n",
      "Formula migliore trovata:\n",
      "+(-(x[0], x[0]), cos(x[1]))\n",
      "\n",
      "Esempi di predizioni:\n",
      "Input: [ 3.15087424 -1.73013313], Predetto: -0.1586634456249708, Reale: 1.8823292724754674\n",
      "Input: [-0.14015422 -1.69649662], Predetto: -0.12536952735157783, Reale: 2.4145711058981614\n",
      "Input: [-2.77684915 -1.408818  ], Predetto: 0.16127094807298892, Reale: 4.660753972829458\n",
      "Input: [2.44925469 3.42961652], Predetto: -0.9588070829372601, Reale: -3.65489259327773\n",
      "Input: [-1.9139768   3.16039541], Predetto: -0.9998232333333456, Reale: -3.545348237878441\n",
      "((x[0] - x[0]) + cos(x[1]))\n"
     ]
    }
   ],
   "source": [
    "# Stampiamo la miglior formula trovata\n",
    "print(\"\\nFormula migliore trovata:\")\n",
    "print(best_tree.long_name)\n",
    "\n",
    "    # Verifica su alcuni campioni del dataset\n",
    "print(\"\\nEsempi di predizioni:\")\n",
    "for sample in dataset[:5]:  # Mostriamo solo i primi 5 esempi\n",
    "    pred = best_tree(x=sample[\"x\"])\n",
    "    print(f\"Input: {sample['x']}, Predetto: {pred}, Reale: {sample['y']}\")\n",
    "\n",
    "print(pretty_print(best_tree))\n"
   ]
  },
  {
   "cell_type": "code",
   "execution_count": 12,
   "metadata": {},
   "outputs": [
    {
     "name": "stdout",
     "output_type": "stream",
     "text": [
      "Formula denormalizzata: 1.9998 + 4.6499 * (((((x[0] * 2.8781) + 0.0090) - ((x[0] * 2.8781) + 0.0090)) + cos(((x[1] * 2.8649) + -0.0256))))\n"
     ]
    }
   ],
   "source": [
    "formula_denorm = denormalize_formula_str(pretty_print(best_tree), mean_X, std_X, mean_Y, std_Y)\n",
    "print(\"Formula denormalizzata:\", formula_denorm)\n"
   ]
  },
  {
   "cell_type": "code",
   "execution_count": 13,
   "metadata": {},
   "outputs": [
    {
     "name": "stdout",
     "output_type": "stream",
     "text": [
      "Numero di campioni: 5000\n",
      "Chiavi del primo campione: ['x', 'y']\n",
      "{'x': array([ 3.15087424, -1.73013313]), 'y': np.float64(1.8823292724754674)}\n",
      "{'x': array([2.44925469, 3.42961652]), 'y': np.float64(-3.65489259327773)}\n",
      "{'x': array([-4.78894882, -1.16127172]), 'y': np.float64(6.501988509163342)}\n"
     ]
    }
   ],
   "source": [
    "print(f\"Numero di campioni: {len(dataset)}\")\n",
    "if len(dataset) > 0:\n",
    "    print(\"Chiavi del primo campione:\", list(dataset[0].keys()))\n",
    "print(dataset[0])\n",
    "print(dataset[3])\n",
    "print(dataset[40])"
   ]
  },
  {
   "cell_type": "code",
   "execution_count": 15,
   "metadata": {},
   "outputs": [
    {
     "name": "stdout",
     "output_type": "stream",
     "text": [
      "(2, 5000)\n",
      "(5000,)\n",
      "x: [[ 3.15087424 -0.14015422 -2.77684915 ... -3.48341583  4.08664981\n",
      "  -4.37254358]\n",
      " [-1.73013313 -1.69649662 -1.408818   ... -3.28548272 -2.58382568\n",
      "   3.30721333]]\n",
      "y: [ 1.88232927  2.41457111  4.66075397 ... -3.33156904 -3.03117116\n",
      " -3.22729306]\n"
     ]
    }
   ],
   "source": [
    "data = np.load(\"../data/problem_4.npz\")\n",
    "x_data = data['x']\n",
    "y_data = data['y']\n",
    "    \n",
    "print(x_data.shape)  \n",
    "print(y_data.shape) \n",
    "for key in data.files:\n",
    "    print(f\"{key}: {data[key]}\")"
   ]
  }
 ],
 "metadata": {
  "kernelspec": {
   "display_name": "myvenv",
   "language": "python",
   "name": "python3"
  },
  "language_info": {
   "codemirror_mode": {
    "name": "ipython",
    "version": 3
   },
   "file_extension": ".py",
   "mimetype": "text/x-python",
   "name": "python",
   "nbconvert_exporter": "python",
   "pygments_lexer": "ipython3",
   "version": "3.12.6"
  }
 },
 "nbformat": 4,
 "nbformat_minor": 2
}
