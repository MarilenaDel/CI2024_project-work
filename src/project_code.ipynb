{
 "cells": [
  {
   "cell_type": "code",
   "execution_count": 1,
   "metadata": {},
   "outputs": [],
   "source": [
    "import numpy as np\n",
    "from typing import Callable\n",
    "from dataset import load_dataset, normalize_data, denormalize_formula_str\n",
    "from dag import DagGP\n",
    "from operators import BINARY_OPERATORS, UNARY_OPERATORS\n",
    "from gp import genetic_programming\n",
    "from utils import pretty_print"
   ]
  },
  {
   "cell_type": "code",
   "execution_count": 31,
   "metadata": {},
   "outputs": [
    {
     "name": "stdout",
     "output_type": "stream",
     "text": [
      "Primo campione normalizzato: {'x': array([ 1.57184211, -0.04445788, -0.54501214]), 'y': np.float64(1.3513678353045944)}\n",
      "original:  [ 4.52991777 -0.18656382 -1.60071107]\n"
     ]
    }
   ],
   "source": [
    "dataset, num_variables = load_dataset(\"../data/problem_2.npz\")\n",
    "sample = dataset[0]\n",
    "x_original = sample[\"x\"]\n",
    "normalized_dataset, mean_X, mean_Y, std_X, std_Y = normalize_data(dataset)\n",
    "print(\"Primo campione normalizzato:\", normalized_dataset[0])\n",
    "print(\"original: \", x_original)"
   ]
  },
  {
   "cell_type": "code",
   "execution_count": 33,
   "metadata": {},
   "outputs": [],
   "source": [
    "population_size=100\n",
    "generations=20\n",
    "tree_depth=5\n",
    "batch_size = 50\n",
    "dataset = normalized_dataset"
   ]
  },
  {
   "cell_type": "code",
   "execution_count": 34,
   "metadata": {},
   "outputs": [
    {
     "name": "stdout",
     "output_type": "stream",
     "text": [
      "Variabili: ['x[0]', 'x[1]', 'x[2]']\n",
      "Costanti: ['-4.74306', '-4.83851', '4.48997', '-3.99695', '-9.68808']\n",
      "Generazione 0: Best fitness = 0.3645, Formula = +(x[0], +(x[2], sin(x[1])))\n",
      "Generazione 1: Best fitness = 0.3645, Formula = +(x[0], +(x[2], sin(x[1])))\n",
      "Generazione 2: Best fitness = 0.3645, Formula = +(x[0], +(x[2], sin(x[1])))\n",
      "Generazione 3: Best fitness = 0.3645, Formula = +(x[0], +(x[2], sin(x[1])))\n",
      "⚠️ Stagnazione rilevata: aumento della probabilità di mutazione!\n",
      "Generazione 4: Best fitness = 0.3645, Formula = +(x[0], +(x[2], sin(x[1])))\n",
      "⚠️ Stagnazione rilevata: aumento della probabilità di mutazione!\n",
      "Generazione 5: Best fitness = 0.3645, Formula = +(x[0], +(x[2], sin(x[1])))\n",
      "⚠️ Stagnazione rilevata: aumento della probabilità di mutazione!\n",
      "Generazione 6: Best fitness = 0.3645, Formula = +(x[0], +(x[2], sin(x[1])))\n",
      "⚠️ Stagnazione rilevata: aumento della probabilità di mutazione!\n",
      "Generazione 7: Best fitness = 0.3645, Formula = +(x[0], +(x[2], sin(x[1])))\n",
      "⚠️ Stagnazione rilevata: aumento della probabilità di mutazione!\n",
      "Generazione 8: Best fitness = 0.3645, Formula = +(x[0], +(x[2], sin(x[1])))\n",
      "⚠️ Stagnazione rilevata: aumento della probabilità di mutazione!\n",
      "Generazione 9: Best fitness = 0.3629, Formula = +(+(x[0], x[1]), sin(x[2]))\n",
      "Generazione 10: Best fitness = 0.3629, Formula = +(+(x[0], x[1]), sin(x[2]))\n",
      "Generazione 11: Best fitness = 0.3629, Formula = +(+(x[0], x[1]), sin(x[2]))\n",
      "Generazione 12: Best fitness = 0.3629, Formula = +(+(x[0], x[1]), sin(x[2]))\n",
      "⚠️ Stagnazione rilevata: aumento della probabilità di mutazione!\n",
      "Generazione 13: Best fitness = 0.3629, Formula = +(+(x[0], x[1]), sin(x[2]))\n",
      "⚠️ Stagnazione rilevata: aumento della probabilità di mutazione!\n",
      "Generazione 14: Best fitness = 0.3629, Formula = +(+(x[0], x[1]), sin(x[2]))\n",
      "⚠️ Stagnazione rilevata: aumento della probabilità di mutazione!\n",
      "Generazione 15: Best fitness = 0.3629, Formula = +(+(x[0], x[1]), sin(x[2]))\n",
      "⚠️ Stagnazione rilevata: aumento della probabilità di mutazione!\n",
      "Generazione 16: Best fitness = 0.3629, Formula = +(+(x[0], x[1]), sin(x[2]))\n",
      "⚠️ Stagnazione rilevata: aumento della probabilità di mutazione!\n",
      "Generazione 17: Best fitness = 0.3629, Formula = +(+(x[0], x[1]), sin(x[2]))\n",
      "⚠️ Stagnazione rilevata: aumento della probabilità di mutazione!\n",
      "Generazione 18: Best fitness = 0.3629, Formula = +(+(x[0], x[1]), sin(x[2]))\n",
      "⚠️ Stagnazione rilevata: aumento della probabilità di mutazione!\n",
      "Generazione 19: Best fitness = 0.3629, Formula = +(+(x[0], x[1]), sin(x[2]))\n",
      "⚠️ Stagnazione rilevata: aumento della probabilità di mutazione!\n"
     ]
    }
   ],
   "source": [
    "best_tree = genetic_programming(dataset, population_size, generations, tree_depth, num_variables, batch_size)\n"
   ]
  },
  {
   "cell_type": "code",
   "execution_count": 35,
   "metadata": {},
   "outputs": [
    {
     "name": "stdout",
     "output_type": "stream",
     "text": [
      "\n",
      "Formula migliore trovata:\n",
      "+(+(x[0], x[1]), sin(x[2]))\n",
      "\n",
      "Esempi di predizioni:\n",
      "Input: [ 1.57184211 -0.04445788 -0.54501214], Predetto: 1.0089557487215597, Reale: 1.3513678353045944\n",
      "Input: [0.6603994  1.43365156 1.12636254], Predetto: 2.9969052091912385, Reale: 0.48915840230291935\n",
      "Input: [-1.63410127 -0.00839346 -0.49263482], Predetto: -2.1154437713991214, Reale: -0.5552303266770995\n",
      "Input: [0.64047137 0.93502982 1.21738863], Predetto: 2.5136999622828453, Reale: 0.8795146550976102\n",
      "Input: [ 1.6855284  -1.11542182  1.60780862], Predetto: 1.5694217058604705, Reale: 0.5042117805245154\n",
      "((x[0] + x[1]) + sin(x[2]))\n"
     ]
    }
   ],
   "source": [
    "# Stampiamo la miglior formula trovata\n",
    "print(\"\\nFormula migliore trovata:\")\n",
    "print(best_tree.long_name)\n",
    "\n",
    "    # Verifica su alcuni campioni del dataset\n",
    "print(\"\\nEsempi di predizioni:\")\n",
    "for sample in dataset[:5]:  # Mostriamo solo i primi 5 esempi\n",
    "    pred = best_tree(x=sample[\"x\"])\n",
    "    print(f\"Input: {sample['x']}, Predetto: {pred}, Reale: {sample['y']}\")\n",
    "\n",
    "print(pretty_print(best_tree))\n"
   ]
  },
  {
   "cell_type": "code",
   "execution_count": 36,
   "metadata": {},
   "outputs": [
    {
     "name": "stdout",
     "output_type": "stream",
     "text": [
      "Formula denormalizzata: 56465.1066 + 5441856.1240 * (((((x[0] * 2.8854) + -0.0055) + ((x[1] * 2.8851) + -0.0583)) + sin(((x[2] * 2.8925) + -0.0242))))\n"
     ]
    }
   ],
   "source": [
    "formula_denorm = denormalize_formula_str(pretty_print(best_tree), mean_X, std_X, mean_Y, std_Y)\n",
    "print(\"Formula denormalizzata:\", formula_denorm)\n"
   ]
  },
  {
   "cell_type": "code",
   "execution_count": null,
   "metadata": {},
   "outputs": [
    {
     "name": "stdout",
     "output_type": "stream",
     "text": [
      "Numero di campioni: 5000\n",
      "Chiavi del primo campione: ['x', 'y']\n",
      "{'x': array([ 1.09162757, -0.59496687]), 'y': np.float64(-0.025259829608601694)}\n",
      "{'x': array([0.84785269, 1.20607633]), 'y': np.float64(-1.21607395229673)}\n",
      "{'x': array([-1.66703188, -0.3964022 ]), 'y': np.float64(0.9682267227505007)}\n"
     ]
    }
   ],
   "source": [
    "print(f\"Numero di campioni: {len(dataset)}\")\n",
    "if len(dataset) > 0:\n",
    "    print(\"Chiavi del primo campione:\", list(dataset[0].keys()))\n",
    "print(dataset[0])\n",
    "print(dataset[3])\n",
    "print(dataset[40])"
   ]
  },
  {
   "cell_type": "code",
   "execution_count": null,
   "metadata": {},
   "outputs": [
    {
     "name": "stdout",
     "output_type": "stream",
     "text": [
      "(6, 50000)\n",
      "(50000,)\n",
      "x: [[-3.0855975  -0.71959491 -1.10113588 ...  4.27001224 -1.02490573\n",
      "  -0.85381654]\n",
      " [-3.93221086  3.34249111 -3.8024801  ...  3.70602439  3.09712376\n",
      "   4.30997633]\n",
      " [-3.47850254  4.25628367 -1.34281985 ...  1.62201897  0.06470192\n",
      "   3.08454389]\n",
      " [ 4.3036516   1.79118696 -2.01043848 ... -0.40424152 -2.19093595\n",
      "   1.59248809]\n",
      " [ 3.71133209 -1.45137572 -2.62295555 ...  3.51794311  2.30699291\n",
      "   0.81556215]\n",
      " [-3.5473932   2.65295015 -1.6968321  ...  0.08739356  1.65090664\n",
      "  -4.09546116]]\n",
      "y: [-3362.54479943   633.50272269  -314.0623083  ...  -636.05132168\n",
      "  -103.74675914 -5788.47632449]\n"
     ]
    }
   ],
   "source": [
    "data = np.load(\"../data/problem_8.npz\")\n",
    "x_data = data['x']\n",
    "y_data = data['y']\n",
    "    \n",
    "print(x_data.shape)  \n",
    "print(y_data.shape) \n",
    "for key in data.files:\n",
    "    print(f\"{key}: {data[key]}\")"
   ]
  }
 ],
 "metadata": {
  "kernelspec": {
   "display_name": "myvenv",
   "language": "python",
   "name": "python3"
  },
  "language_info": {
   "codemirror_mode": {
    "name": "ipython",
    "version": 3
   },
   "file_extension": ".py",
   "mimetype": "text/x-python",
   "name": "python",
   "nbconvert_exporter": "python",
   "pygments_lexer": "ipython3",
   "version": "3.12.6"
  }
 },
 "nbformat": 4,
 "nbformat_minor": 2
}
